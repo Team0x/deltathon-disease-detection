{
 "cells": [
  {
   "cell_type": "code",
   "execution_count": 1,
   "id": "60628ce7-c800-456d-b11a-9888a1f60dfe",
   "metadata": {},
   "outputs": [
    {
     "name": "stderr",
     "output_type": "stream",
     "text": [
      "2023-01-20 08:34:01.313578: I tensorflow/core/platform/cpu_feature_guard.cc:193] This TensorFlow binary is optimized with oneAPI Deep Neural Network Library (oneDNN) to use the following CPU instructions in performance-critical operations:  AVX2 AVX512F AVX512_VNNI FMA\n",
      "To enable them in other operations, rebuild TensorFlow with the appropriate compiler flags.\n",
      "2023-01-20 08:34:01.417267: I tensorflow/core/util/port.cc:104] oneDNN custom operations are on. You may see slightly different numerical results due to floating-point round-off errors from different computation orders. To turn them off, set the environment variable `TF_ENABLE_ONEDNN_OPTS=0`.\n",
      "2023-01-20 08:34:01.419807: W tensorflow/compiler/xla/stream_executor/platform/default/dso_loader.cc:64] Could not load dynamic library 'libcudart.so.11.0'; dlerror: libcudart.so.11.0: cannot open shared object file: No such file or directory; LD_LIBRARY_PATH: /home/subash/.local/lib/python3.10/site-packages/cv2/../../lib64:\n",
      "2023-01-20 08:34:01.419816: I tensorflow/compiler/xla/stream_executor/cuda/cudart_stub.cc:29] Ignore above cudart dlerror if you do not have a GPU set up on your machine.\n",
      "2023-01-20 08:34:01.850516: W tensorflow/compiler/xla/stream_executor/platform/default/dso_loader.cc:64] Could not load dynamic library 'libnvinfer.so.7'; dlerror: libnvinfer.so.7: cannot open shared object file: No such file or directory; LD_LIBRARY_PATH: /home/subash/.local/lib/python3.10/site-packages/cv2/../../lib64:\n",
      "2023-01-20 08:34:01.850554: W tensorflow/compiler/xla/stream_executor/platform/default/dso_loader.cc:64] Could not load dynamic library 'libnvinfer_plugin.so.7'; dlerror: libnvinfer_plugin.so.7: cannot open shared object file: No such file or directory; LD_LIBRARY_PATH: /home/subash/.local/lib/python3.10/site-packages/cv2/../../lib64:\n",
      "2023-01-20 08:34:01.850557: W tensorflow/compiler/tf2tensorrt/utils/py_utils.cc:38] TF-TRT Warning: Cannot dlopen some TensorRT libraries. If you would like to use Nvidia GPU with TensorRT, please make sure the missing libraries mentioned above are installed properly.\n"
     ]
    }
   ],
   "source": [
    "import numpy as np\n",
    "import cv2\n",
    "import os\n",
    "import PIL\n",
    "import tensorflow as tf\n",
    "\n",
    "from tensorflow import keras\n",
    "from tensorflow.keras import layers\n",
    "from tensorflow.keras.models import Sequential"
   ]
  },
  {
   "cell_type": "code",
   "execution_count": 2,
   "id": "2ae9161f-5203-4e5b-99ce-a0d2778fe7d1",
   "metadata": {},
   "outputs": [],
   "source": [
    "data_dir = '../../data/PlantVillage/'"
   ]
  },
  {
   "cell_type": "code",
   "execution_count": 3,
   "id": "9ca01979-0417-4ac1-a60e-ecd0ff5a6e31",
   "metadata": {},
   "outputs": [
    {
     "data": {
      "text/plain": [
       "PosixPath('../../data/PlantVillage')"
      ]
     },
     "execution_count": 3,
     "metadata": {},
     "output_type": "execute_result"
    }
   ],
   "source": [
    "import pathlib\n",
    "data_dir=pathlib.Path(data_dir)\n",
    "data_dir"
   ]
  },
  {
   "cell_type": "code",
   "execution_count": 4,
   "id": "b72d4553-9e21-42a5-a10f-93125273ec41",
   "metadata": {},
   "outputs": [],
   "source": [
    "from os import listdir\n",
    "img_dirs = listdir(data_dir)"
   ]
  },
  {
   "cell_type": "code",
   "execution_count": 5,
   "id": "75bbef27-fd59-4e5c-b94c-6817272f84df",
   "metadata": {},
   "outputs": [
    {
     "name": "stdout",
     "output_type": "stream",
     "text": [
      "Pepper__bell___Bacterial_spot: 997\n",
      "Pepper__bell___healthy: 1478\n",
      "Potato___Early_blight: 1000\n",
      "Potato___healthy: 152\n",
      "Potato___Late_blight: 1000\n",
      "Tomato_Bacterial_spot: 2127\n",
      "Tomato_Early_blight: 1000\n",
      "Tomato_healthy: 1591\n",
      "Tomato_Late_blight: 1909\n",
      "Tomato_Leaf_Mold: 952\n",
      "Tomato_Septoria_leaf_spot: 1771\n",
      "Tomato_Spider_mites_Two_spotted_spider_mite: 1676\n",
      "Tomato__Target_Spot: 1404\n",
      "Tomato__Tomato_mosaic_virus: 373\n",
      "Tomato__Tomato_YellowLeaf__Curl_Virus: 3209\n"
     ]
    }
   ],
   "source": [
    "for dirs in img_dirs:\n",
    "    temp = list(data_dir.glob(dirs+'/*'))\n",
    "    print(f\"{dirs}: {len(temp)}\")"
   ]
  },
  {
   "cell_type": "code",
   "execution_count": 6,
   "id": "47c69d0f-a274-4604-848e-cadb6a42456e",
   "metadata": {},
   "outputs": [],
   "source": [
    "dict = {}\n",
    "label_dict = {}\n",
    "i = 0\n",
    "for dirs in img_dirs:\n",
    "    dict[dirs] = list(data_dir.glob(dirs+'/*'))\n",
    "    label_dict[dirs] = i\n",
    "    i += 1"
   ]
  },
  {
   "cell_type": "code",
   "execution_count": 7,
   "id": "3c24846e-4da8-40b2-9ea4-ab09db7a32cc",
   "metadata": {},
   "outputs": [
    {
     "data": {
      "text/plain": [
       "{'Pepper__bell___Bacterial_spot': 0,\n",
       " 'Pepper__bell___healthy': 1,\n",
       " 'Potato___Early_blight': 2,\n",
       " 'Potato___healthy': 3,\n",
       " 'Potato___Late_blight': 4,\n",
       " 'Tomato_Bacterial_spot': 5,\n",
       " 'Tomato_Early_blight': 6,\n",
       " 'Tomato_healthy': 7,\n",
       " 'Tomato_Late_blight': 8,\n",
       " 'Tomato_Leaf_Mold': 9,\n",
       " 'Tomato_Septoria_leaf_spot': 10,\n",
       " 'Tomato_Spider_mites_Two_spotted_spider_mite': 11,\n",
       " 'Tomato__Target_Spot': 12,\n",
       " 'Tomato__Tomato_mosaic_virus': 13,\n",
       " 'Tomato__Tomato_YellowLeaf__Curl_Virus': 14}"
      ]
     },
     "execution_count": 7,
     "metadata": {},
     "output_type": "execute_result"
    }
   ],
   "source": [
    "label_dict"
   ]
  },
  {
   "cell_type": "code",
   "execution_count": 8,
   "id": "bf29c4a3-de2f-4c26-8096-5062723815b6",
   "metadata": {},
   "outputs": [],
   "source": [
    "X, y = [], []\n",
    "\n",
    "for name, images in dict.items():\n",
    "    i = 0\n",
    "    for image in images:\n",
    "        if i > 100:\n",
    "            break\n",
    "        i+=1\n",
    "        img = cv2.imread(str(image))\n",
    "        try:\n",
    "            resized_img = cv2.resize(img,(255,255))\n",
    "            X.append(resized_img)\n",
    "            y.append(label_dict[name])\n",
    "        except:\n",
    "            print(f\"debug: {image}\")\n",
    "            continue"
   ]
  },
  {
   "cell_type": "code",
   "execution_count": 9,
   "id": "1ce36abb-38e4-40f4-9b04-3c45e908a67e",
   "metadata": {},
   "outputs": [],
   "source": [
    "X = np.array(X)\n",
    "y = np.array(y)"
   ]
  },
  {
   "cell_type": "code",
   "execution_count": 10,
   "id": "e114f29c-fbb1-4215-ae30-bed7cac95c1a",
   "metadata": {},
   "outputs": [
    {
     "data": {
      "text/plain": [
       "465"
      ]
     },
     "execution_count": 10,
     "metadata": {},
     "output_type": "execute_result"
    }
   ],
   "source": [
    "len(X)"
   ]
  },
  {
   "cell_type": "code",
   "execution_count": 11,
   "id": "445ef3ab-5b81-46b8-b7ca-a29dffaecc88",
   "metadata": {},
   "outputs": [],
   "source": [
    "from sklearn.model_selection import train_test_split\n",
    "X_train, X_test, y_train, y_test = train_test_split(X, y, random_state=0)"
   ]
  },
  {
   "cell_type": "code",
   "execution_count": 12,
   "id": "67b3b252-5aca-4da3-937f-2c9a548b8131",
   "metadata": {},
   "outputs": [],
   "source": [
    "X_train_scaled = X_train / 255\n",
    "X_test_scaled = X_test / 255"
   ]
  },
  {
   "cell_type": "code",
   "execution_count": 20,
   "id": "4fa40bf3-0d91-40b9-8faa-f66bc8d0e7f4",
   "metadata": {},
   "outputs": [
    {
     "name": "stdout",
     "output_type": "stream",
     "text": [
      "Epoch 1/30\n",
      "11/11 [==============================] - 3s 207ms/step - loss: 5.4295 - accuracy: 0.0891\n",
      "Epoch 2/30\n",
      "11/11 [==============================] - 2s 206ms/step - loss: 2.3947 - accuracy: 0.2701\n",
      "Epoch 3/30\n",
      "11/11 [==============================] - 2s 206ms/step - loss: 1.8354 - accuracy: 0.5632\n",
      "Epoch 4/30\n",
      "11/11 [==============================] - 2s 205ms/step - loss: 1.2282 - accuracy: 0.7644\n",
      "Epoch 5/30\n",
      "11/11 [==============================] - 2s 207ms/step - loss: 0.8211 - accuracy: 0.7874\n",
      "Epoch 6/30\n",
      "11/11 [==============================] - 2s 206ms/step - loss: 0.5008 - accuracy: 0.8937\n",
      "Epoch 7/30\n",
      "11/11 [==============================] - 2s 205ms/step - loss: 0.2867 - accuracy: 0.9454\n",
      "Epoch 8/30\n",
      "11/11 [==============================] - 2s 205ms/step - loss: 0.1903 - accuracy: 0.9799\n",
      "Epoch 9/30\n",
      "11/11 [==============================] - 2s 203ms/step - loss: 0.1022 - accuracy: 0.9943\n",
      "Epoch 10/30\n",
      "11/11 [==============================] - 2s 205ms/step - loss: 0.0561 - accuracy: 1.0000\n",
      "Epoch 11/30\n",
      "11/11 [==============================] - 2s 205ms/step - loss: 0.0367 - accuracy: 1.0000\n",
      "Epoch 12/30\n",
      "11/11 [==============================] - 2s 205ms/step - loss: 0.0198 - accuracy: 1.0000\n",
      "Epoch 13/30\n",
      "11/11 [==============================] - 2s 205ms/step - loss: 0.0128 - accuracy: 1.0000\n",
      "Epoch 14/30\n",
      "11/11 [==============================] - 2s 205ms/step - loss: 0.0098 - accuracy: 1.0000\n",
      "Epoch 15/30\n",
      "11/11 [==============================] - 2s 206ms/step - loss: 0.0081 - accuracy: 1.0000\n",
      "Epoch 16/30\n",
      "11/11 [==============================] - 2s 204ms/step - loss: 0.0069 - accuracy: 1.0000\n",
      "Epoch 17/30\n",
      "11/11 [==============================] - 2s 208ms/step - loss: 0.0060 - accuracy: 1.0000\n",
      "Epoch 18/30\n",
      "11/11 [==============================] - 2s 211ms/step - loss: 0.0052 - accuracy: 1.0000\n",
      "Epoch 19/30\n",
      "11/11 [==============================] - 2s 208ms/step - loss: 0.0046 - accuracy: 1.0000\n",
      "Epoch 20/30\n",
      "11/11 [==============================] - 2s 207ms/step - loss: 0.0042 - accuracy: 1.0000\n",
      "Epoch 21/30\n",
      "11/11 [==============================] - 2s 207ms/step - loss: 0.0038 - accuracy: 1.0000\n",
      "Epoch 22/30\n",
      "11/11 [==============================] - 2s 209ms/step - loss: 0.0034 - accuracy: 1.0000\n",
      "Epoch 23/30\n",
      "11/11 [==============================] - 2s 208ms/step - loss: 0.0031 - accuracy: 1.0000\n",
      "Epoch 24/30\n",
      "11/11 [==============================] - 2s 207ms/step - loss: 0.0028 - accuracy: 1.0000\n",
      "Epoch 25/30\n",
      "11/11 [==============================] - 2s 208ms/step - loss: 0.0026 - accuracy: 1.0000\n",
      "Epoch 26/30\n",
      "11/11 [==============================] - 2s 209ms/step - loss: 0.0024 - accuracy: 1.0000\n",
      "Epoch 27/30\n",
      "11/11 [==============================] - 2s 206ms/step - loss: 0.0022 - accuracy: 1.0000\n",
      "Epoch 28/30\n",
      "11/11 [==============================] - 2s 207ms/step - loss: 0.0021 - accuracy: 1.0000\n",
      "Epoch 29/30\n",
      "11/11 [==============================] - 2s 206ms/step - loss: 0.0019 - accuracy: 1.0000\n",
      "Epoch 30/30\n",
      "11/11 [==============================] - 2s 223ms/step - loss: 0.0018 - accuracy: 1.0000\n"
     ]
    },
    {
     "data": {
      "text/plain": [
       "<keras.callbacks.History at 0x7f5278540160>"
      ]
     },
     "execution_count": 20,
     "metadata": {},
     "output_type": "execute_result"
    }
   ],
   "source": [
    "num_classes = 15\n",
    "model = Sequential([\n",
    "  layers.Conv2D(16, 2, padding='same', activation='relu'),\n",
    "  layers.MaxPooling2D(),\n",
    "  layers.Conv2D(32, 2, padding='same', activation='relu'),\n",
    "  #layers.MaxPooling2D(),\n",
    "  #layers.Conv2D(64, 2, padding='same', activation='relu'),\n",
    "  layers.MaxPooling2D(),\n",
    "  layers.Flatten(),\n",
    "  #layers.Dense(128, activation='relu'),\n",
    "  layers.Dense(num_classes)\n",
    "])\n",
    "\n",
    "model.compile(optimizer='adam',\n",
    "              loss=tf.keras.losses.SparseCategoricalCrossentropy(from_logits=True),\n",
    "              metrics=['accuracy'])\n",
    "model.fit(X_train_scaled, y_train, epochs=30)"
   ]
  },
  {
   "cell_type": "code",
   "execution_count": 21,
   "id": "82acdbca-9b67-4408-8ab5-9d7aef4929c8",
   "metadata": {},
   "outputs": [
    {
     "name": "stdout",
     "output_type": "stream",
     "text": [
      "4/4 [==============================] - 0s 56ms/step - loss: 1.2931 - accuracy: 0.6154\n"
     ]
    },
    {
     "data": {
      "text/plain": [
       "[1.2931426763534546, 0.6153846383094788]"
      ]
     },
     "execution_count": 21,
     "metadata": {},
     "output_type": "execute_result"
    }
   ],
   "source": [
    "model.evaluate(X_test_scaled,y_test)"
   ]
  },
  {
   "cell_type": "code",
   "execution_count": 22,
   "id": "f050dcff-7e32-4f0a-899e-9d4bc44e6f90",
   "metadata": {},
   "outputs": [
    {
     "name": "stdout",
     "output_type": "stream",
     "text": [
      "4/4 [==============================] - 0s 55ms/step\n"
     ]
    },
    {
     "data": {
      "text/plain": [
       "array([[ -6.286304 ,  -2.6681347,  -4.127915 , ...,  -5.0609455,\n",
       "         -0.7557312,  -5.095532 ],\n",
       "       [ -6.5605307,  -8.750807 , -15.737734 , ...,   0.8144531,\n",
       "        -10.587662 ,  -5.3414183],\n",
       "       [-11.991996 , -14.501716 , -15.216777 , ...,  -8.14726  ,\n",
       "        -16.306957 ,  -9.665678 ],\n",
       "       ...,\n",
       "       [ -7.251989 , -12.422585 , -15.819239 , ..., -10.059768 ,\n",
       "        -13.124697 ,  -1.4410814],\n",
       "       [ -5.006123 ,  -6.3970942,  -8.694085 , ..., -11.913518 ,\n",
       "         -5.457448 , -13.1413555],\n",
       "       [-16.860046 , -32.57868  , -13.873348 , ..., -14.994182 ,\n",
       "        -23.268589 , -29.56153  ]], dtype=float32)"
      ]
     },
     "execution_count": 22,
     "metadata": {},
     "output_type": "execute_result"
    }
   ],
   "source": [
    "predictions = model.predict(X_test_scaled)\n",
    "predictions"
   ]
  },
  {
   "cell_type": "code",
   "execution_count": 23,
   "id": "ec6e5fa0-1554-4f47-b857-c21a9ce8f778",
   "metadata": {},
   "outputs": [],
   "source": [
    "import pickle"
   ]
  },
  {
   "cell_type": "code",
   "execution_count": 25,
   "id": "9ed2cb97-e2e7-4ad0-966b-aa03b93b5da0",
   "metadata": {},
   "outputs": [
    {
     "name": "stdout",
     "output_type": "stream",
     "text": [
      "Keras weights file (<HDF5 file \"variables.h5\" (mode r+)>) saving:\n",
      "...layers\n",
      "......conv2d\n",
      ".........vars\n",
      "............0\n",
      "............1\n",
      "......conv2d_1\n",
      ".........vars\n",
      "............0\n",
      "............1\n",
      "......dense\n",
      ".........vars\n",
      "............0\n",
      "............1\n",
      "......flatten\n",
      ".........vars\n",
      "......max_pooling2d\n",
      ".........vars\n",
      "......max_pooling2d_1\n",
      ".........vars\n",
      "...metrics\n",
      "......mean\n",
      ".........vars\n",
      "............0\n",
      "............1\n",
      "......mean_metric_wrapper\n",
      ".........vars\n",
      "............0\n",
      "............1\n",
      "...optimizer\n",
      "......vars\n",
      ".........0\n",
      ".........1\n",
      ".........10\n",
      ".........11\n",
      ".........12\n",
      ".........2\n",
      ".........3\n",
      ".........4\n",
      ".........5\n",
      ".........6\n",
      ".........7\n",
      ".........8\n",
      ".........9\n",
      "...vars\n",
      "Keras model archive saving:\n",
      "File Name                                             Modified             Size\n",
      "variables.h5                                   2023-01-20 01:48:38     22919328\n",
      "config.json                                    2023-01-20 01:48:38         2863\n",
      "metadata.json                                  2023-01-20 01:48:38           64\n"
     ]
    }
   ],
   "source": [
    "pickle.dump(model, open(\"../../models/dide1.pkl\", 'wb'))"
   ]
  },
  {
   "cell_type": "code",
   "execution_count": 27,
   "id": "bc8ae058-8031-4f8d-8094-514f8ae0ba38",
   "metadata": {},
   "outputs": [
    {
     "name": "stdout",
     "output_type": "stream",
     "text": [
      "Keras model archive loading:\n",
      "File Name                                             Modified             Size\n",
      "variables.h5                                   2023-01-20 01:48:38     22919328\n",
      "config.json                                    2023-01-20 01:48:38         2863\n",
      "metadata.json                                  2023-01-20 01:48:38           64\n",
      "Keras weights file (<HDF5 file \"variables.h5\" (mode r)>) loading:\n",
      "...layers\n",
      "......conv2d\n",
      ".........vars\n",
      "............0\n",
      "............1\n",
      "......conv2d_1\n",
      ".........vars\n",
      "............0\n",
      "............1\n",
      "......dense\n",
      ".........vars\n",
      "............0\n",
      "............1\n",
      "......flatten\n",
      ".........vars\n",
      "......max_pooling2d\n",
      ".........vars\n",
      "......max_pooling2d_1\n",
      ".........vars\n",
      "...metrics\n",
      "......mean\n",
      ".........vars\n",
      "............0\n",
      "............1\n",
      "......mean_metric_wrapper\n",
      ".........vars\n",
      "............0\n",
      "............1\n",
      "...optimizer\n",
      "......vars\n",
      ".........0\n",
      ".........1\n",
      ".........10\n",
      ".........11\n",
      ".........12\n",
      ".........2\n",
      ".........3\n",
      ".........4\n",
      ".........5\n",
      ".........6\n",
      ".........7\n",
      ".........8\n",
      ".........9\n",
      "...vars\n"
     ]
    }
   ],
   "source": [
    "loaded_model = pickle.load(open(\"../../models/dide1.pkl\", 'rb'))"
   ]
  },
  {
   "cell_type": "code",
   "execution_count": 28,
   "id": "ac34a194-b95b-4923-9823-c718bb68f962",
   "metadata": {},
   "outputs": [
    {
     "name": "stdout",
     "output_type": "stream",
     "text": [
      "4/4 [==============================] - 0s 55ms/step - loss: 1.2931 - accuracy: 0.6154\n"
     ]
    },
    {
     "data": {
      "text/plain": [
       "[1.2931426763534546, 0.6153846383094788]"
      ]
     },
     "execution_count": 28,
     "metadata": {},
     "output_type": "execute_result"
    }
   ],
   "source": [
    "loaded_model.evaluate(X_test_scaled,y_test)"
   ]
  },
  {
   "cell_type": "code",
   "execution_count": null,
   "id": "edefe12c-ef2d-4b62-82c5-1f9bf561fd9e",
   "metadata": {},
   "outputs": [],
   "source": []
  }
 ],
 "metadata": {
  "kernelspec": {
   "display_name": "Python 3 (ipykernel)",
   "language": "python",
   "name": "python3"
  },
  "language_info": {
   "codemirror_mode": {
    "name": "ipython",
    "version": 3
   },
   "file_extension": ".py",
   "mimetype": "text/x-python",
   "name": "python",
   "nbconvert_exporter": "python",
   "pygments_lexer": "ipython3",
   "version": "3.10.6"
  }
 },
 "nbformat": 4,
 "nbformat_minor": 5
}

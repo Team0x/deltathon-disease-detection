{
 "cells": [
  {
   "cell_type": "code",
   "execution_count": 1,
   "id": "60628ce7-c800-456d-b11a-9888a1f60dfe",
   "metadata": {},
   "outputs": [
    {
     "name": "stderr",
     "output_type": "stream",
     "text": [
      "2023-01-19 23:13:38.254368: I tensorflow/core/platform/cpu_feature_guard.cc:193] This TensorFlow binary is optimized with oneAPI Deep Neural Network Library (oneDNN) to use the following CPU instructions in performance-critical operations:  AVX2 FMA\n",
      "To enable them in other operations, rebuild TensorFlow with the appropriate compiler flags.\n",
      "2023-01-19 23:13:42.142615: W tensorflow/compiler/xla/stream_executor/platform/default/dso_loader.cc:64] Could not load dynamic library 'libcudart.so.11.0'; dlerror: libcudart.so.11.0: cannot open shared object file: No such file or directory; LD_LIBRARY_PATH: /home/sudesh/deltathon/.venv/lib/python3.9/site-packages/cv2/../../lib64:\n",
      "2023-01-19 23:13:42.142679: I tensorflow/compiler/xla/stream_executor/cuda/cudart_stub.cc:29] Ignore above cudart dlerror if you do not have a GPU set up on your machine.\n",
      "2023-01-19 23:13:50.692983: W tensorflow/compiler/xla/stream_executor/platform/default/dso_loader.cc:64] Could not load dynamic library 'libnvinfer.so.7'; dlerror: libnvinfer.so.7: cannot open shared object file: No such file or directory; LD_LIBRARY_PATH: /home/sudesh/deltathon/.venv/lib/python3.9/site-packages/cv2/../../lib64:\n",
      "2023-01-19 23:13:50.701079: W tensorflow/compiler/xla/stream_executor/platform/default/dso_loader.cc:64] Could not load dynamic library 'libnvinfer_plugin.so.7'; dlerror: libnvinfer_plugin.so.7: cannot open shared object file: No such file or directory; LD_LIBRARY_PATH: /home/sudesh/deltathon/.venv/lib/python3.9/site-packages/cv2/../../lib64:\n",
      "2023-01-19 23:13:50.701130: W tensorflow/compiler/tf2tensorrt/utils/py_utils.cc:38] TF-TRT Warning: Cannot dlopen some TensorRT libraries. If you would like to use Nvidia GPU with TensorRT, please make sure the missing libraries mentioned above are installed properly.\n"
     ]
    }
   ],
   "source": [
    "import numpy as np\n",
    "import cv2\n",
    "import os\n",
    "import PIL\n",
    "import tensorflow as tf\n",
    "\n",
    "from tensorflow import keras\n",
    "from tensorflow.keras import layers\n",
    "from tensorflow.keras.models import Sequential"
   ]
  },
  {
   "cell_type": "code",
   "execution_count": 3,
   "id": "2ae9161f-5203-4e5b-99ce-a0d2778fe7d1",
   "metadata": {},
   "outputs": [],
   "source": [
    "data_dir = '../../data/PlantVillage/'"
   ]
  },
  {
   "cell_type": "code",
   "execution_count": 5,
   "id": "9ca01979-0417-4ac1-a60e-ecd0ff5a6e31",
   "metadata": {},
   "outputs": [
    {
     "data": {
      "text/plain": [
       "PosixPath('../../data/PlantVillage')"
      ]
     },
     "execution_count": 5,
     "metadata": {},
     "output_type": "execute_result"
    }
   ],
   "source": [
    "import pathlib\n",
    "data_dir=pathlib.Path(data_dir)\n",
    "data_dir"
   ]
  },
  {
   "cell_type": "code",
   "execution_count": 8,
   "id": "b72d4553-9e21-42a5-a10f-93125273ec41",
   "metadata": {},
   "outputs": [],
   "source": [
    "from os import listdir\n",
    "img_dirs = listdir(data_dir)"
   ]
  },
  {
   "cell_type": "code",
   "execution_count": 11,
   "id": "75bbef27-fd59-4e5c-b94c-6817272f84df",
   "metadata": {},
   "outputs": [
    {
     "name": "stdout",
     "output_type": "stream",
     "text": [
      "Potato___Early_blight: 1000\n",
      "Tomato_Spider_mites_Two_spotted_spider_mite: 1676\n",
      "Tomato__Tomato_YellowLeaf__Curl_Virus: 3209\n",
      "Tomato_Early_blight: 1000\n",
      "Potato___healthy: 152\n",
      "Tomato_Septoria_leaf_spot: 1771\n",
      "Tomato_Late_blight: 1909\n",
      "Tomato_healthy: 1591\n",
      "Tomato_Leaf_Mold: 952\n",
      "Tomato__Tomato_mosaic_virus: 373\n",
      "Tomato_Bacterial_spot: 2127\n",
      "Pepper__bell___healthy: 1478\n",
      "Potato___Late_blight: 1000\n",
      "Tomato__Target_Spot: 1404\n",
      "Pepper__bell___Bacterial_spot: 997\n"
     ]
    }
   ],
   "source": [
    "for dirs in img_dirs:\n",
    "    temp = list(data_dir.glob(dirs+'/*'))\n",
    "    print(f\"{dirs}: {len(temp)}\")"
   ]
  },
  {
   "cell_type": "code",
   "execution_count": 23,
   "id": "47c69d0f-a274-4604-848e-cadb6a42456e",
   "metadata": {},
   "outputs": [],
   "source": [
    "dict = {}\n",
    "label_dict = {}\n",
    "i = 0\n",
    "for dirs in img_dirs:\n",
    "    dict[dirs] = list(data_dir.glob(dirs+'/*'))\n",
    "    label_dict[dirs] = i\n",
    "    i += 1"
   ]
  },
  {
   "cell_type": "code",
   "execution_count": 24,
   "id": "3c24846e-4da8-40b2-9ea4-ab09db7a32cc",
   "metadata": {},
   "outputs": [
    {
     "data": {
      "text/plain": [
       "{'Potato___Early_blight': 0,\n",
       " 'Tomato_Spider_mites_Two_spotted_spider_mite': 1,\n",
       " 'Tomato__Tomato_YellowLeaf__Curl_Virus': 2,\n",
       " 'Tomato_Early_blight': 3,\n",
       " 'Potato___healthy': 4,\n",
       " 'Tomato_Septoria_leaf_spot': 5,\n",
       " 'Tomato_Late_blight': 6,\n",
       " 'Tomato_healthy': 7,\n",
       " 'Tomato_Leaf_Mold': 8,\n",
       " 'Tomato__Tomato_mosaic_virus': 9,\n",
       " 'Tomato_Bacterial_spot': 10,\n",
       " 'Pepper__bell___healthy': 11,\n",
       " 'Potato___Late_blight': 12,\n",
       " 'Tomato__Target_Spot': 13,\n",
       " 'Pepper__bell___Bacterial_spot': 14}"
      ]
     },
     "execution_count": 24,
     "metadata": {},
     "output_type": "execute_result"
    }
   ],
   "source": [
    "label_dict"
   ]
  },
  {
   "cell_type": "code",
   "execution_count": 33,
   "id": "bf29c4a3-de2f-4c26-8096-5062723815b6",
   "metadata": {},
   "outputs": [
    {
     "name": "stdout",
     "output_type": "stream",
     "text": [
      "debug: ../../data/PlantVillage/Tomato__Tomato_YellowLeaf__Curl_Virus/svn-r6Yb5c\n"
     ]
    }
   ],
   "source": [
    "X, y = [], []\n",
    "\n",
    "for name, images in dict.items():\n",
    "    for image in images:\n",
    "        img = cv2.imread(str(image))\n",
    "        try:\n",
    "            resized_img = cv2.resize(img,(180,180))\n",
    "            X.append(resized_img)\n",
    "            y.append(label_dict[name])\n",
    "        except:\n",
    "            print(f\"debug: {image}\")\n",
    "            continue"
   ]
  },
  {
   "cell_type": "code",
   "execution_count": null,
   "id": "1ce36abb-38e4-40f4-9b04-3c45e908a67e",
   "metadata": {},
   "outputs": [],
   "source": [
    "X = np.array(X)\n",
    "y = np.array(y)"
   ]
  },
  {
   "cell_type": "code",
   "execution_count": null,
   "id": "445ef3ab-5b81-46b8-b7ca-a29dffaecc88",
   "metadata": {},
   "outputs": [],
   "source": [
    "from sklearn.model_selection import train_test_split\n",
    "X_train, X_test, y_train, y_test = train_test_split(X, y, random_state=0)"
   ]
  },
  {
   "cell_type": "code",
   "execution_count": null,
   "id": "4fa40bf3-0d91-40b9-8faa-f66bc8d0e7f4",
   "metadata": {},
   "outputs": [],
   "source": []
  }
 ],
 "metadata": {
  "kernelspec": {
   "display_name": "Python 3 (ipykernel)",
   "language": "python",
   "name": "python3"
  },
  "language_info": {
   "codemirror_mode": {
    "name": "ipython",
    "version": 3
   },
   "file_extension": ".py",
   "mimetype": "text/x-python",
   "name": "python",
   "nbconvert_exporter": "python",
   "pygments_lexer": "ipython3",
   "version": "3.9.2"
  }
 },
 "nbformat": 4,
 "nbformat_minor": 5
}
